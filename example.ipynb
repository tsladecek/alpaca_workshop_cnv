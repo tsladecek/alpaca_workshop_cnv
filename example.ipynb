{
 "cells": [
  {
   "cell_type": "code",
   "execution_count": 1,
   "id": "865b3204-4c56-4396-bffd-b401e8ba1ff5",
   "metadata": {},
   "outputs": [],
   "source": [
    "import pandas as pd\n",
    "import numpy as np"
   ]
  },
  {
   "cell_type": "markdown",
   "id": "51ddd108-846d-4477-b96f-dc85d08947da",
   "metadata": {},
   "source": [
    "# Read data\n",
    "\n",
    "the `train` and `validation` datasets should be used for training. The label column is called `clinsig` (not present in the `test` dataset)"
   ]
  },
  {
   "cell_type": "code",
   "execution_count": 2,
   "id": "3da54220-36c5-4691-a19a-cc74cdc98099",
   "metadata": {},
   "outputs": [],
   "source": [
    "train = pd.read_csv(\"data/train.tsv\", delimiter=\"\\t\")\n",
    "validation = pd.read_csv(\"data/validation.tsv\", delimiter=\"\\t\")\n",
    "test = pd.read_csv(\"data/test.tsv\", delimiter=\"\\t\")\n",
    "\n",
    "descriptive_columns = [\"chr\", \"start_hg38\", \"end_hg38\", \"multiplicity\"]\n",
    "train_X = train.drop(descriptive_columns + [\"clinsig\"], axis=1).to_numpy()\n",
    "validation_X = validation.drop(descriptive_columns + [\"clinsig\"], axis=1).to_numpy()\n",
    "test_X = test.drop(descriptive_columns, axis=1).to_numpy()\n",
    "\n",
    "train_Y = train.clinsig.values\n",
    "validation_Y = validation.clinsig.values"
   ]
  },
  {
   "cell_type": "markdown",
   "id": "fbefb4a6-dc4b-41bf-a253-5f8ccbc859fe",
   "metadata": {},
   "source": [
    "## utility function for saving results"
   ]
  },
  {
   "cell_type": "code",
   "execution_count": 3,
   "id": "4462b85a-8e8f-4e32-b5f3-cbf4f845831d",
   "metadata": {},
   "outputs": [],
   "source": [
    "def save_predictions(y: np.ndarray[np.int_], output=\"test_predictions.tsv\"):\n",
    "    with open(output, \"w\") as f:\n",
    "        f.write(\"\\n\".join([str(i) for i in y]))"
   ]
  },
  {
   "cell_type": "markdown",
   "id": "33be4157-245e-43fd-9a4e-f5152c4078ef",
   "metadata": {},
   "source": [
    "# Training\n",
    "\n",
    "The predicted labels should be uploaded to a new sheet in this spreadsheet: https://docs.google.com/spreadsheets/d/1qGXqMPoFOZACX0kW7NicKlMhtMJMz94qX0ywzjxKODg/edit?usp=sharing\n",
    "\n",
    "Please provide name for the sheet. The labels should be pasted as a single column without column name and contain only numbers 0 (Benign) and 1 (Pathogenic)"
   ]
  },
  {
   "cell_type": "markdown",
   "id": "6cf52bf4-4699-4561-b532-8f3ba7f3f39f",
   "metadata": {},
   "source": [
    "## Example"
   ]
  },
  {
   "cell_type": "code",
   "execution_count": 4,
   "id": "e6915060-d934-4735-b6ed-9e1908fb68fe",
   "metadata": {},
   "outputs": [],
   "source": [
    "from sklearn.discriminant_analysis import LinearDiscriminantAnalysis"
   ]
  },
  {
   "cell_type": "code",
   "execution_count": 5,
   "id": "ad947824-6e2f-4cbb-b67a-f5bfdd126cce",
   "metadata": {},
   "outputs": [],
   "source": [
    "clf = LinearDiscriminantAnalysis()\n",
    "clf.fit(train_X, train_Y)\n",
    "preds = clf.predict(test_X)\n",
    "save_predictions(preds)"
   ]
  }
 ],
 "metadata": {
  "kernelspec": {
   "display_name": "Python 3 (ipykernel)",
   "language": "python",
   "name": "python3"
  },
  "language_info": {
   "codemirror_mode": {
    "name": "ipython",
    "version": 3
   },
   "file_extension": ".py",
   "mimetype": "text/x-python",
   "name": "python",
   "nbconvert_exporter": "python",
   "pygments_lexer": "ipython3",
   "version": "3.12.7"
  }
 },
 "nbformat": 4,
 "nbformat_minor": 5
}
